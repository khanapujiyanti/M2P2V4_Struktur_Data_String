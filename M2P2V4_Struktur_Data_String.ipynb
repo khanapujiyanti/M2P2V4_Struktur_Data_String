{
  "nbformat": 4,
  "nbformat_minor": 0,
  "metadata": {
    "colab": {
      "name": "M2P2V4_Struktur_Data_String.ipynb",
      "provenance": [],
      "collapsed_sections": [],
      "authorship_tag": "ABX9TyMyPZHhRTJWJURLGZNwvGXm",
      "include_colab_link": true
    },
    "kernelspec": {
      "name": "python3",
      "display_name": "Python 3"
    },
    "language_info": {
      "name": "python"
    }
  },
  "cells": [
    {
      "cell_type": "markdown",
      "metadata": {
        "id": "view-in-github",
        "colab_type": "text"
      },
      "source": [
        "<a href=\"https://colab.research.google.com/github/khanapujiyanti/M2P2V4_Struktur_Data_String/blob/main/M2P2V4_Struktur_Data_String.ipynb\" target=\"_parent\"><img src=\"https://colab.research.google.com/assets/colab-badge.svg\" alt=\"Open In Colab\"/></a>"
      ]
    },
    {
      "cell_type": "markdown",
      "metadata": {
        "id": "qUUzFKvZwtno"
      },
      "source": [
        "#String"
      ]
    },
    {
      "cell_type": "markdown",
      "metadata": {
        "id": "X8UEIrV-wxUn"
      },
      "source": [
        "String di deklarasikan dengan di apit oleh tanda petik."
      ]
    },
    {
      "cell_type": "code",
      "metadata": {
        "colab": {
          "base_uri": "https://localhost:8080/"
        },
        "id": "FgnVsGxhwOVv",
        "outputId": "ac112827-c2b0-410f-b1dc-7b3541a65872"
      },
      "source": [
        "#Menampilkan string dengan fungsi print()\n",
        "print(\"Hello Word!\")\n"
      ],
      "execution_count": null,
      "outputs": [
        {
          "output_type": "stream",
          "name": "stdout",
          "text": [
            "Hello Word!\n"
          ]
        }
      ]
    },
    {
      "cell_type": "code",
      "metadata": {
        "colab": {
          "base_uri": "https://localhost:8080/"
        },
        "id": "eqXnZMWjxDU0",
        "outputId": "06ebc262-030f-4da6-cee7-31f1d6daabef"
      },
      "source": [
        "#Membuat variabek bertipe string\n",
        "A = \"BElajar Struktur data string\"\n",
        "print(A)"
      ],
      "execution_count": null,
      "outputs": [
        {
          "output_type": "stream",
          "name": "stdout",
          "text": [
            "BElajar Struktur data string\n"
          ]
        }
      ]
    },
    {
      "cell_type": "code",
      "metadata": {
        "colab": {
          "base_uri": "https://localhost:8080/"
        },
        "id": "oN1Gvv6gxMsx",
        "outputId": "d0278929-217d-44c9-8bf0-1afc1d7c2eca"
      },
      "source": [
        "#Membuat variabel string multi-line dengan 3 tanda petik\n",
        "B = \"\"\"belajar Python\n",
        "Pejuang Data 3.0\n",
        "PSDS\n",
        "Sting\"\"\"\n",
        "print(B)"
      ],
      "execution_count": null,
      "outputs": [
        {
          "output_type": "stream",
          "name": "stdout",
          "text": [
            "belajar Python\n",
            "Pejuang Data 3.0\n",
            "PSDS\n",
            "Sting\n"
          ]
        }
      ]
    },
    {
      "cell_type": "code",
      "metadata": {
        "colab": {
          "base_uri": "https://localhost:8080/"
        },
        "id": "qiCA-6Lfxech",
        "outputId": "7ed1d108-5e69-46b7-c4b0-0a096fe795ca"
      },
      "source": [
        "#Menampilkan karakter tertentu dalam string\n",
        "print(A[2])"
      ],
      "execution_count": null,
      "outputs": [
        {
          "output_type": "stream",
          "name": "stdout",
          "text": [
            "l\n"
          ]
        }
      ]
    },
    {
      "cell_type": "code",
      "metadata": {
        "colab": {
          "base_uri": "https://localhost:8080/"
        },
        "id": "-KcenyUkx7jh",
        "outputId": "e8e19447-f50f-4cc5-a48a-f226a4f4daae"
      },
      "source": [
        "#Sciling pada String\n",
        "A = \"Belajar Struktur Data string\"\n",
        "print(A[:5])\n",
        "print(A[3:])\n",
        "print(A[-5:])\n",
        "print(A[4:9])\n"
      ],
      "execution_count": null,
      "outputs": [
        {
          "output_type": "stream",
          "name": "stdout",
          "text": [
            "Belaj\n",
            "ajar Struktur Data string\n",
            "tring\n",
            "jar S\n"
          ]
        }
      ]
    },
    {
      "cell_type": "markdown",
      "metadata": {
        "id": "LGDDTNQ6yiSU"
      },
      "source": [
        "#latihan 1"
      ]
    },
    {
      "cell_type": "code",
      "metadata": {
        "colab": {
          "base_uri": "https://localhost:8080/"
        },
        "id": "rEVMMZiDyVrN",
        "outputId": "42c056c3-9fa7-4c61-9e19-b809504ff318"
      },
      "source": [
        "#Buatlah variabel string lalu lakukan sciling dengan menghilangkan karakter pertama dan terakhir\n",
        "B = \"Saya ingin makan ayam\"\n",
        "print(B[1:20])"
      ],
      "execution_count": null,
      "outputs": [
        {
          "output_type": "stream",
          "name": "stdout",
          "text": [
            "aya ingin makan aya\n"
          ]
        }
      ]
    },
    {
      "cell_type": "markdown",
      "metadata": {
        "id": "ayHfkgAD1Ldf"
      },
      "source": [
        "#Memodifikasi String"
      ]
    },
    {
      "cell_type": "code",
      "metadata": {
        "colab": {
          "base_uri": "https://localhost:8080/",
          "height": 35
        },
        "id": "_y-DjRaz1N3j",
        "outputId": "40e16e44-471a-4abe-be8f-e7c571597edd"
      },
      "source": [
        "#upper()\n",
        "A.upper()"
      ],
      "execution_count": null,
      "outputs": [
        {
          "output_type": "execute_result",
          "data": {
            "application/vnd.google.colaboratory.intrinsic+json": {
              "type": "string"
            },
            "text/plain": [
              "'BELAJAR STRUKTUR DATA STRING'"
            ]
          },
          "metadata": {},
          "execution_count": 45
        }
      ]
    },
    {
      "cell_type": "code",
      "metadata": {
        "colab": {
          "base_uri": "https://localhost:8080/",
          "height": 35
        },
        "id": "ZMa-6PHS1VIX",
        "outputId": "527a4f71-97f8-4a9f-fce7-956a0562a630"
      },
      "source": [
        "#lower()\n",
        "A.lower()"
      ],
      "execution_count": null,
      "outputs": [
        {
          "output_type": "execute_result",
          "data": {
            "application/vnd.google.colaboratory.intrinsic+json": {
              "type": "string"
            },
            "text/plain": [
              "'belajar struktur data string'"
            ]
          },
          "metadata": {},
          "execution_count": 46
        }
      ]
    },
    {
      "cell_type": "code",
      "metadata": {
        "colab": {
          "base_uri": "https://localhost:8080/",
          "height": 35
        },
        "id": "ZdIujJBc1ehn",
        "outputId": "1d38ed86-3c8a-4f98-bfef-90d5fb005b33"
      },
      "source": [
        "#strip()\n",
        "A.strip()"
      ],
      "execution_count": null,
      "outputs": [
        {
          "output_type": "execute_result",
          "data": {
            "application/vnd.google.colaboratory.intrinsic+json": {
              "type": "string"
            },
            "text/plain": [
              "'Belajar Struktur Data string'"
            ]
          },
          "metadata": {},
          "execution_count": 47
        }
      ]
    },
    {
      "cell_type": "code",
      "metadata": {
        "colab": {
          "base_uri": "https://localhost:8080/",
          "height": 35
        },
        "id": "pPpx9I-g1n_F",
        "outputId": "1a243581-4bff-42a7-efb6-6cfacffaf585"
      },
      "source": [
        "#replace()\n",
        "A.replace('l', 'd')"
      ],
      "execution_count": null,
      "outputs": [
        {
          "output_type": "execute_result",
          "data": {
            "application/vnd.google.colaboratory.intrinsic+json": {
              "type": "string"
            },
            "text/plain": [
              "'Bedajar Struktur Data string'"
            ]
          },
          "metadata": {},
          "execution_count": 48
        }
      ]
    },
    {
      "cell_type": "code",
      "metadata": {
        "colab": {
          "base_uri": "https://localhost:8080/"
        },
        "id": "bESK8tJz11cW",
        "outputId": "580db4cd-3896-4867-b7ee-f4c2351352bf"
      },
      "source": [
        "#split()\n",
        "A.split()"
      ],
      "execution_count": null,
      "outputs": [
        {
          "output_type": "execute_result",
          "data": {
            "text/plain": [
              "['Belajar', 'Struktur', 'Data', 'string']"
            ]
          },
          "metadata": {},
          "execution_count": 49
        }
      ]
    },
    {
      "cell_type": "markdown",
      "metadata": {
        "id": "IXuLcUfj17s4"
      },
      "source": [
        "#Menggabungkan String"
      ]
    },
    {
      "cell_type": "code",
      "metadata": {
        "colab": {
          "base_uri": "https://localhost:8080/",
          "height": 35
        },
        "id": "2HCHe0M615yv",
        "outputId": "94031bf2-aecc-478d-90ed-ef67a94c01f5"
      },
      "source": [
        "A = \"Belajar struktur data string\"\n",
        "B = \"Pejuang data 3.0\"\n",
        "A + \" \" +B"
      ],
      "execution_count": null,
      "outputs": [
        {
          "output_type": "execute_result",
          "data": {
            "application/vnd.google.colaboratory.intrinsic+json": {
              "type": "string"
            },
            "text/plain": [
              "'Belajar struktur data string Pejuang data 3.0'"
            ]
          },
          "metadata": {},
          "execution_count": 25
        }
      ]
    },
    {
      "cell_type": "markdown",
      "metadata": {
        "id": "L5nmsGD-2ThT"
      },
      "source": [
        "#LAtihan 2"
      ]
    },
    {
      "cell_type": "code",
      "metadata": {
        "colab": {
          "base_uri": "https://localhost:8080/",
          "height": 35
        },
        "id": "YGLDKX1l2X8W",
        "outputId": "f5ff4e69-cf65-4284-969f-5f06eb6c1015"
      },
      "source": [
        "#Ganti semua huruf vokal menjadi \"i\" pada string yang telah kalian buat pada latihan 1\n",
        "B = \"Saya ingin makan ayam\"\n",
        "B.replace('a', 'i')"
      ],
      "execution_count": null,
      "outputs": [
        {
          "output_type": "execute_result",
          "data": {
            "application/vnd.google.colaboratory.intrinsic+json": {
              "type": "string"
            },
            "text/plain": [
              "'Siyi ingin mikin iyim'"
            ]
          },
          "metadata": {},
          "execution_count": 50
        }
      ]
    }
  ]
}